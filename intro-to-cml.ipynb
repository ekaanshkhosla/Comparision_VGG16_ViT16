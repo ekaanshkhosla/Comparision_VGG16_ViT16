{
 "cells": [
  {
   "cell_type": "markdown",
   "id": "e6146cda",
   "metadata": {
    "papermill": {
     "duration": 0.005334,
     "end_time": "2024-10-23T10:55:15.914672",
     "exception": false,
     "start_time": "2024-10-23T10:55:15.909338",
     "status": "completed"
    },
    "tags": []
   },
   "source": [
    "### Importing libraries and loading datset"
   ]
  },
  {
   "cell_type": "code",
   "execution_count": 1,
   "id": "2504b250",
   "metadata": {
    "execution": {
     "iopub.execute_input": "2024-10-23T10:55:15.925871Z",
     "iopub.status.busy": "2024-10-23T10:55:15.925436Z",
     "iopub.status.idle": "2024-10-23T10:55:42.709871Z",
     "shell.execute_reply": "2024-10-23T10:55:42.708967Z"
    },
    "papermill": {
     "duration": 26.792943,
     "end_time": "2024-10-23T10:55:42.712428",
     "exception": false,
     "start_time": "2024-10-23T10:55:15.919485",
     "status": "completed"
    },
    "tags": []
   },
   "outputs": [],
   "source": [
    "import torch\n",
    "import torch.nn as nn\n",
    "import torch.optim as optim\n",
    "from torchvision import datasets, models, transforms\n",
    "from torch.utils.data import DataLoader\n",
    "from sklearn.metrics import f1_score, accuracy_score\n",
    "from torch.utils.data import DataLoader, random_split\n",
    "from tqdm import tqdm  # Import tqdm for progress bar\n",
    "import matplotlib.pyplot as plt\n",
    "import seaborn as sns\n",
    "\n",
    "# Set device to GPU if available\n",
    "device = torch.device(\"cuda\" if torch.cuda.is_available() else \"cpu\")\n",
    "\n",
    "# Define transformations for training and validation datasets\n",
    "train_transforms = transforms.Compose([\n",
    "    transforms.Resize((224, 224)),\n",
    "    transforms.ToTensor(),\n",
    "    transforms.Normalize([0.485, 0.456, 0.406], [0.229, 0.224, 0.225])\n",
    "])\n",
    "\n",
    "test_transforms = transforms.Compose([\n",
    "    transforms.Resize((224, 224)),\n",
    "    transforms.ToTensor(),\n",
    "    transforms.Normalize([0.485, 0.456, 0.406], [0.229, 0.224, 0.225])\n",
    "])\n",
    "\n",
    "# Define paths\n",
    "train_dir = '/kaggle/input/tomato/New Plant Diseases Dataset(Augmented)/train'\n",
    "test_dir = '/kaggle/input/tomato/New Plant Diseases Dataset(Augmented)/valid'\n",
    "\n",
    "# Load the datasets\n",
    "full_dataset = datasets.ImageFolder(train_dir, transform=train_transforms)\n",
    "train_size = int(0.8 * len(full_dataset))\n",
    "val_size = len(full_dataset) - train_size\n",
    "train_dataset, val_dataset = random_split(full_dataset, [train_size, val_size])\n",
    "test_dataset = datasets.ImageFolder(test_dir, transform=test_transforms)\n",
    "\n",
    "# Define data loaders\n",
    "train_loader = DataLoader(train_dataset, batch_size=32, shuffle=True)\n",
    "val_loader = DataLoader(val_dataset, batch_size=32, shuffle=False)\n",
    "test_loader = DataLoader(test_dataset, batch_size=32, shuffle=False)"
   ]
  },
  {
   "cell_type": "markdown",
   "id": "caff2ef9",
   "metadata": {
    "papermill": {
     "duration": 0.004488,
     "end_time": "2024-10-23T10:55:42.721957",
     "exception": false,
     "start_time": "2024-10-23T10:55:42.717469",
     "status": "completed"
    },
    "tags": []
   },
   "source": [
    "### Loading the model and defining loss function"
   ]
  },
  {
   "cell_type": "code",
   "execution_count": 2,
   "id": "ec4a4f69",
   "metadata": {
    "execution": {
     "iopub.execute_input": "2024-10-23T10:55:42.733144Z",
     "iopub.status.busy": "2024-10-23T10:55:42.732143Z",
     "iopub.status.idle": "2024-10-23T10:55:47.516612Z",
     "shell.execute_reply": "2024-10-23T10:55:47.515563Z"
    },
    "papermill": {
     "duration": 4.79251,
     "end_time": "2024-10-23T10:55:47.518940",
     "exception": false,
     "start_time": "2024-10-23T10:55:42.726430",
     "status": "completed"
    },
    "tags": []
   },
   "outputs": [
    {
     "name": "stderr",
     "output_type": "stream",
     "text": [
      "Downloading: \"https://download.pytorch.org/models/vgg16-397923af.pth\" to /root/.cache/torch/hub/checkpoints/vgg16-397923af.pth\n",
      "100%|██████████| 528M/528M [00:02<00:00, 191MB/s]\n"
     ]
    }
   ],
   "source": [
    "model = models.vgg16(weights = models.VGG16_Weights.IMAGENET1K_V1)\n",
    "num_classes = len(full_dataset.classes) \n",
    "model.classifier[6] = nn.Linear(in_features=4096, out_features=num_classes)\n",
    "\n",
    "# Set the device to GPU if available\n",
    "device = torch.device(\"cuda\" if torch.cuda.is_available() else \"cpu\")\n",
    "model = model.to(device)\n",
    "\n",
    "# Define loss function and optimizer\n",
    "criterion = nn.CrossEntropyLoss()\n",
    "optimizer = optim.Adam(model.classifier.parameters(), lr=0.001)"
   ]
  },
  {
   "cell_type": "markdown",
   "id": "8b72d1f6",
   "metadata": {
    "papermill": {
     "duration": 0.007002,
     "end_time": "2024-10-23T10:55:47.534617",
     "exception": false,
     "start_time": "2024-10-23T10:55:47.527615",
     "status": "completed"
    },
    "tags": []
   },
   "source": [
    "### Training using VGG16"
   ]
  },
  {
   "cell_type": "code",
   "execution_count": 3,
   "id": "e76cdd57",
   "metadata": {
    "execution": {
     "iopub.execute_input": "2024-10-23T10:55:47.552141Z",
     "iopub.status.busy": "2024-10-23T10:55:47.551219Z",
     "iopub.status.idle": "2024-10-23T11:35:52.727906Z",
     "shell.execute_reply": "2024-10-23T11:35:52.726810Z"
    },
    "papermill": {
     "duration": 2405.196923,
     "end_time": "2024-10-23T11:35:52.739858",
     "exception": false,
     "start_time": "2024-10-23T10:55:47.542935",
     "status": "completed"
    },
    "tags": []
   },
   "outputs": [
    {
     "name": "stdout",
     "output_type": "stream",
     "text": [
      "Epoch 1/100, Train Loss: 0.9901, Train Accuracy: 0.7185, Val Loss: 0.3922, Val Accuracy: 0.8817\n",
      "Epoch 2/100, Train Loss: 0.6590, Train Accuracy: 0.8447, Val Loss: 0.3824, Val Accuracy: 0.8962\n",
      "Epoch 3/100, Train Loss: 0.5421, Train Accuracy: 0.8797, Val Loss: 0.3156, Val Accuracy: 0.9141\n",
      "Epoch 4/100, Train Loss: 0.4946, Train Accuracy: 0.8991, Val Loss: 0.3453, Val Accuracy: 0.9220\n",
      "Epoch 5/100, Train Loss: 0.5000, Train Accuracy: 0.9030, Val Loss: 0.3528, Val Accuracy: 0.9212\n",
      "Epoch 6/100, Train Loss: 0.4371, Train Accuracy: 0.9176, Val Loss: 0.3642, Val Accuracy: 0.9253\n",
      "Epoch 7/100, Train Loss: 0.5055, Train Accuracy: 0.9195, Val Loss: 0.3537, Val Accuracy: 0.9357\n",
      "Epoch 8/100, Train Loss: 0.3989, Train Accuracy: 0.9366, Val Loss: 0.4793, Val Accuracy: 0.9280\n",
      "Epoch 9/100, Train Loss: 0.4366, Train Accuracy: 0.9348, Val Loss: 0.4163, Val Accuracy: 0.9188\n",
      "Epoch 10/100, Train Loss: 0.3588, Train Accuracy: 0.9441, Val Loss: 0.4260, Val Accuracy: 0.9289\n",
      "Epoch 11/100, Train Loss: 0.3657, Train Accuracy: 0.9444, Val Loss: 0.5331, Val Accuracy: 0.9392\n",
      "Epoch 12/100, Train Loss: 0.4081, Train Accuracy: 0.9441, Val Loss: 0.5585, Val Accuracy: 0.9310\n",
      "Epoch 13/100, Train Loss: 0.3594, Train Accuracy: 0.9509, Val Loss: 0.7148, Val Accuracy: 0.9310\n",
      "Early stopping at epoch 13\n"
     ]
    }
   ],
   "source": [
    "import torch\n",
    "import copy\n",
    "\n",
    "def train_model(model, criterion, optimizer, train_loader, val_loader, num_epochs):\n",
    "    train_losses = []\n",
    "    val_losses = []\n",
    "    train_accuracies = []\n",
    "    val_accuracies = []\n",
    "    patience = 10\n",
    "\n",
    "    best_model_wts = copy.deepcopy(model.state_dict())\n",
    "    best_val_loss = float('inf')\n",
    "    epochs_no_improve = 0\n",
    "\n",
    "    for epoch in range(num_epochs):\n",
    "        # Training phase\n",
    "        model.train()\n",
    "        running_loss = 0.0\n",
    "        running_corrects = 0\n",
    "        \n",
    "        for inputs, labels in train_loader:\n",
    "            inputs, labels = inputs.to(device), labels.to(device)\n",
    "            optimizer.zero_grad()\n",
    "            outputs = model(inputs)\n",
    "            loss = criterion(outputs, labels)\n",
    "            _, preds = torch.max(outputs, 1)\n",
    "            loss.backward()\n",
    "            optimizer.step()\n",
    "\n",
    "            running_loss += loss.item() * inputs.size(0)\n",
    "            running_corrects += torch.sum(preds == labels.data)\n",
    "\n",
    "        epoch_loss = running_loss / len(train_loader.dataset)\n",
    "        epoch_acc = running_corrects.double() / len(train_loader.dataset)\n",
    "        train_losses.append(epoch_loss)\n",
    "        train_accuracies.append(epoch_acc.item())\n",
    "\n",
    "        # Validation phase\n",
    "        model.eval()\n",
    "        val_running_loss = 0.0\n",
    "        val_running_corrects = 0\n",
    "        \n",
    "        with torch.no_grad():\n",
    "            for inputs, labels in val_loader:\n",
    "                inputs, labels = inputs.to(device), labels.to(device)\n",
    "                outputs = model(inputs)\n",
    "                loss = criterion(outputs, labels)\n",
    "                _, preds = torch.max(outputs, 1)\n",
    "                val_running_loss += loss.item() * inputs.size(0)\n",
    "                val_running_corrects += torch.sum(preds == labels.data)\n",
    "\n",
    "        val_loss = val_running_loss / len(val_loader.dataset)\n",
    "        val_acc = val_running_corrects.double() / len(val_loader.dataset)\n",
    "        val_losses.append(val_loss)\n",
    "        val_accuracies.append(val_acc.item())\n",
    "\n",
    "        print(f'Epoch {epoch+1}/{num_epochs}, Train Loss: {epoch_loss:.4f}, Train Accuracy: {epoch_acc:.4f}, Val Loss: {val_loss:.4f}, Val Accuracy: {val_acc:.4f}')\n",
    "\n",
    "        # Early stopping based on validation loss\n",
    "        if val_loss < best_val_loss:\n",
    "            best_val_loss = val_loss\n",
    "            best_model_wts = copy.deepcopy(model.state_dict())\n",
    "            epochs_no_improve = 0\n",
    "        else:\n",
    "            epochs_no_improve += 1\n",
    "\n",
    "        if epochs_no_improve >= patience:\n",
    "            print(f'Early stopping at epoch {epoch+1}')\n",
    "            break\n",
    "\n",
    "    model.load_state_dict(best_model_wts)\n",
    "    return model, train_losses, train_accuracies, val_losses, val_accuracies\n",
    "\n",
    "# Train the model with early stopping\n",
    "trained_model, train_losses, train_accuracies, val_losses, val_accuracies = train_model(model, criterion, optimizer, train_loader, val_loader, num_epochs=100)"
   ]
  },
  {
   "cell_type": "markdown",
   "id": "bedd63d9",
   "metadata": {
    "papermill": {
     "duration": 0.00814,
     "end_time": "2024-10-23T11:35:52.756051",
     "exception": false,
     "start_time": "2024-10-23T11:35:52.747911",
     "status": "completed"
    },
    "tags": []
   },
   "source": [
    "### Plotting VGG16 training accuracy and loss"
   ]
  },
  {
   "cell_type": "code",
   "execution_count": 4,
   "id": "3266d293",
   "metadata": {
    "execution": {
     "iopub.execute_input": "2024-10-23T11:35:52.773642Z",
     "iopub.status.busy": "2024-10-23T11:35:52.773222Z",
     "iopub.status.idle": "2024-10-23T11:35:53.320165Z",
     "shell.execute_reply": "2024-10-23T11:35:53.319304Z"
    },
    "papermill": {
     "duration": 0.558716,
     "end_time": "2024-10-23T11:35:53.322661",
     "exception": false,
     "start_time": "2024-10-23T11:35:52.763945",
     "status": "completed"
    },
    "tags": []
   },
   "outputs": [
    {
     "data": {
      "image/png": "[encoded data removed]",
      "text/plain": [
       "<Figure size 1200x500 with 2 Axes>"
      ]
     },
     "metadata": {},
     "output_type": "display_data"
    }
   ],
   "source": [
    "def plot_training_metrics(train_losses, train_accuracies, epochs):\n",
    "    \n",
    "    plt.figure(figsize=(12, 5))\n",
    "    \n",
    "    # Plotting training loss\n",
    "    plt.subplot(1, 2, 1)\n",
    "    plt.plot(epochs, train_losses, '-o')\n",
    "    plt.title('Training Loss per Epoch')\n",
    "    plt.xlabel('Epoch')\n",
    "    plt.ylabel('Loss')\n",
    "    \n",
    "    # Plotting training accuracy\n",
    "    plt.subplot(1, 2, 2)\n",
    "    plt.plot(epochs, train_accuracies, '-o')\n",
    "    plt.title('Training Accuracy per Epoch')\n",
    "    plt.xlabel('Epoch')\n",
    "    plt.ylabel('Accuracy')\n",
    "    \n",
    "    plt.tight_layout()\n",
    "    plt.show()\n",
    "    \n",
    "    \n",
    "plot_training_metrics(train_losses, train_accuracies, range(1, len(train_losses) + 1))"
   ]
  },
  {
   "cell_type": "markdown",
   "id": "d2afe29c",
   "metadata": {
    "papermill": {
     "duration": 0.00878,
     "end_time": "2024-10-23T11:35:53.340554",
     "exception": false,
     "start_time": "2024-10-23T11:35:53.331774",
     "status": "completed"
    },
    "tags": []
   },
   "source": [
    "### Evaluation on Test data"
   ]
  },
  {
   "cell_type": "code",
   "execution_count": 5,
   "id": "600208b4",
   "metadata": {
    "execution": {
     "iopub.execute_input": "2024-10-23T11:35:53.359538Z",
     "iopub.status.busy": "2024-10-23T11:35:53.359015Z",
     "iopub.status.idle": "2024-10-23T11:36:45.148520Z",
     "shell.execute_reply": "2024-10-23T11:36:45.147450Z"
    },
    "papermill": {
     "duration": 51.810047,
     "end_time": "2024-10-23T11:36:45.159411",
     "exception": false,
     "start_time": "2024-10-23T11:35:53.349364",
     "status": "completed"
    },
    "tags": []
   },
   "outputs": [
    {
     "name": "stdout",
     "output_type": "stream",
     "text": [
      "Accuracy: 0.9060\n"
     ]
    }
   ],
   "source": [
    "# Evaluation function\n",
    "def evaluate_model(model, test_loader):\n",
    "    model.eval()\n",
    "    all_preds = []\n",
    "    all_labels = []\n",
    "    with torch.no_grad():\n",
    "        for inputs, labels in (test_loader):\n",
    "            inputs, labels = inputs.to(device), labels.to(device)\n",
    "            outputs = model(inputs)\n",
    "            _, preds = torch.max(outputs, 1)\n",
    "            all_preds.extend(preds.cpu().numpy())\n",
    "            all_labels.extend(labels.cpu().numpy())\n",
    "\n",
    "    return all_preds, all_labels\n",
    "\n",
    "# Get predictions and true labels\n",
    "predictions, true_labels = evaluate_model(trained_model, test_loader)\n",
    "\n",
    "# Calculate Accuracy\n",
    "accuracy = accuracy_score(true_labels, predictions)\n",
    "print(f'Accuracy: {accuracy:.4f}')"
   ]
  },
  {
   "cell_type": "markdown",
   "id": "6a1bb134",
   "metadata": {
    "papermill": {
     "duration": 0.009347,
     "end_time": "2024-10-23T11:36:45.177613",
     "exception": false,
     "start_time": "2024-10-23T11:36:45.168266",
     "status": "completed"
    },
    "tags": []
   },
   "source": [
    "### Loading ViT Model"
   ]
  },
  {
   "cell_type": "code",
   "execution_count": 6,
   "id": "6235cb71",
   "metadata": {
    "execution": {
     "iopub.execute_input": "2024-10-23T11:36:45.197410Z",
     "iopub.status.busy": "2024-10-23T11:36:45.196564Z",
     "iopub.status.idle": "2024-10-23T11:36:48.181275Z",
     "shell.execute_reply": "2024-10-23T11:36:48.180414Z"
    },
    "papermill": {
     "duration": 2.996874,
     "end_time": "2024-10-23T11:36:48.183608",
     "exception": false,
     "start_time": "2024-10-23T11:36:45.186734",
     "status": "completed"
    },
    "tags": []
   },
   "outputs": [
    {
     "name": "stderr",
     "output_type": "stream",
     "text": [
      "Downloading: \"https://download.pytorch.org/models/vit_b_16_lc_swag-4e70ced5.pth\" to /root/.cache/torch/hub/checkpoints/vit_b_16_lc_swag-4e70ced5.pth\n",
      "100%|██████████| 330M/330M [00:01<00:00, 227MB/s]\n"
     ]
    }
   ],
   "source": [
    "model = models.vit_b_16(weights = models.ViT_B_16_Weights.IMAGENET1K_SWAG_LINEAR_V1)\n",
    "model.heads.head = nn.Linear(in_features=model.heads.head.in_features, out_features=num_classes)\n",
    "\n",
    "# Set the device to GPU if available\n",
    "device = torch.device(\"cuda\" if torch.cuda.is_available() else \"cpu\")\n",
    "model = model.to(device)\n",
    "\n",
    "# Define loss function and optimizer\n",
    "criterion = nn.CrossEntropyLoss()\n",
    "optimizer = optim.Adam(model.parameters(), lr=0.001)"
   ]
  },
  {
   "cell_type": "markdown",
   "id": "3b3c3054",
   "metadata": {
    "papermill": {
     "duration": 0.010162,
     "end_time": "2024-10-23T11:36:48.205575",
     "exception": false,
     "start_time": "2024-10-23T11:36:48.195413",
     "status": "completed"
    },
    "tags": []
   },
   "source": [
    "### Training of ViT model"
   ]
  },
  {
   "cell_type": "code",
   "execution_count": 7,
   "id": "ff355803",
   "metadata": {
    "execution": {
     "iopub.execute_input": "2024-10-23T11:36:48.227644Z",
     "iopub.status.busy": "2024-10-23T11:36:48.227297Z",
     "iopub.status.idle": "2024-10-23T15:52:15.796716Z",
     "shell.execute_reply": "2024-10-23T15:52:15.795638Z"
    },
    "papermill": {
     "duration": 15327.596911,
     "end_time": "2024-10-23T15:52:15.812773",
     "exception": false,
     "start_time": "2024-10-23T11:36:48.215862",
     "status": "completed"
    },
    "tags": []
   },
   "outputs": [
    {
     "name": "stdout",
     "output_type": "stream",
     "text": [
      "Epoch 1/100, Train Loss: 1.6171, Train Accuracy: 0.4446, Val Loss: 0.8202, Val Accuracy: 0.6950\n",
      "Epoch 2/100, Train Loss: 0.7877, Train Accuracy: 0.7243, Val Loss: 0.6361, Val Accuracy: 0.7678\n",
      "Epoch 3/100, Train Loss: 0.7504, Train Accuracy: 0.7360, Val Loss: 0.5259, Val Accuracy: 0.8149\n",
      "Epoch 4/100, Train Loss: 0.6289, Train Accuracy: 0.7813, Val Loss: 0.6181, Val Accuracy: 0.7708\n",
      "Epoch 5/100, Train Loss: 0.5490, Train Accuracy: 0.8083, Val Loss: 0.5290, Val Accuracy: 0.8114\n",
      "Epoch 6/100, Train Loss: 0.5480, Train Accuracy: 0.8093, Val Loss: 0.4867, Val Accuracy: 0.8324\n",
      "Epoch 7/100, Train Loss: 0.6825, Train Accuracy: 0.7590, Val Loss: 0.5458, Val Accuracy: 0.8128\n",
      "Epoch 8/100, Train Loss: 0.5478, Train Accuracy: 0.8090, Val Loss: 0.4400, Val Accuracy: 0.8525\n",
      "Epoch 9/100, Train Loss: 0.4417, Train Accuracy: 0.8473, Val Loss: 0.4215, Val Accuracy: 0.8515\n",
      "Epoch 10/100, Train Loss: 0.3904, Train Accuracy: 0.8637, Val Loss: 0.6008, Val Accuracy: 0.8092\n",
      "Epoch 11/100, Train Loss: 0.5440, Train Accuracy: 0.8100, Val Loss: 0.5374, Val Accuracy: 0.8035\n",
      "Epoch 12/100, Train Loss: 0.4777, Train Accuracy: 0.8306, Val Loss: 0.5169, Val Accuracy: 0.8177\n",
      "Epoch 13/100, Train Loss: 0.3804, Train Accuracy: 0.8691, Val Loss: 0.3595, Val Accuracy: 0.8820\n",
      "Epoch 14/100, Train Loss: 0.3065, Train Accuracy: 0.8907, Val Loss: 0.3357, Val Accuracy: 0.8828\n",
      "Epoch 15/100, Train Loss: 0.3183, Train Accuracy: 0.8874, Val Loss: 0.3169, Val Accuracy: 0.8891\n",
      "Epoch 16/100, Train Loss: 0.2602, Train Accuracy: 0.9088, Val Loss: 0.2388, Val Accuracy: 0.9139\n",
      "Epoch 17/100, Train Loss: 0.3055, Train Accuracy: 0.8911, Val Loss: 0.3253, Val Accuracy: 0.8793\n",
      "Epoch 18/100, Train Loss: 0.3208, Train Accuracy: 0.8850, Val Loss: 0.2662, Val Accuracy: 0.9084\n",
      "Epoch 19/100, Train Loss: 0.2712, Train Accuracy: 0.9043, Val Loss: 0.4585, Val Accuracy: 0.8419\n",
      "Epoch 20/100, Train Loss: 0.2676, Train Accuracy: 0.9054, Val Loss: 0.2318, Val Accuracy: 0.9210\n",
      "Epoch 21/100, Train Loss: 0.2027, Train Accuracy: 0.9286, Val Loss: 0.2087, Val Accuracy: 0.9300\n",
      "Epoch 22/100, Train Loss: 0.1992, Train Accuracy: 0.9299, Val Loss: 0.2888, Val Accuracy: 0.9008\n",
      "Epoch 23/100, Train Loss: 0.2136, Train Accuracy: 0.9248, Val Loss: 0.2361, Val Accuracy: 0.9166\n",
      "Epoch 24/100, Train Loss: 0.3807, Train Accuracy: 0.8672, Val Loss: 0.4119, Val Accuracy: 0.8528\n",
      "Epoch 25/100, Train Loss: 0.3021, Train Accuracy: 0.8946, Val Loss: 0.2614, Val Accuracy: 0.9065\n",
      "Epoch 26/100, Train Loss: 0.1909, Train Accuracy: 0.9332, Val Loss: 0.1761, Val Accuracy: 0.9368\n",
      "Epoch 27/100, Train Loss: 0.1738, Train Accuracy: 0.9392, Val Loss: 0.2173, Val Accuracy: 0.9275\n",
      "Epoch 28/100, Train Loss: 0.2165, Train Accuracy: 0.9233, Val Loss: 0.2269, Val Accuracy: 0.9182\n",
      "Epoch 29/100, Train Loss: 0.1875, Train Accuracy: 0.9315, Val Loss: 0.1385, Val Accuracy: 0.9496\n",
      "Epoch 30/100, Train Loss: 0.1847, Train Accuracy: 0.9347, Val Loss: 0.2594, Val Accuracy: 0.9054\n",
      "Epoch 31/100, Train Loss: 0.1438, Train Accuracy: 0.9494, Val Loss: 0.1781, Val Accuracy: 0.9395\n",
      "Epoch 32/100, Train Loss: 0.1407, Train Accuracy: 0.9496, Val Loss: 0.2293, Val Accuracy: 0.9215\n",
      "Epoch 33/100, Train Loss: 0.1271, Train Accuracy: 0.9551, Val Loss: 0.1157, Val Accuracy: 0.9613\n",
      "Epoch 34/100, Train Loss: 0.1174, Train Accuracy: 0.9576, Val Loss: 0.1447, Val Accuracy: 0.9518\n",
      "Epoch 35/100, Train Loss: 0.1384, Train Accuracy: 0.9507, Val Loss: 0.2562, Val Accuracy: 0.9114\n",
      "Epoch 36/100, Train Loss: 0.1402, Train Accuracy: 0.9499, Val Loss: 0.1812, Val Accuracy: 0.9376\n",
      "Epoch 37/100, Train Loss: 0.1323, Train Accuracy: 0.9541, Val Loss: 0.1452, Val Accuracy: 0.9458\n",
      "Epoch 38/100, Train Loss: 0.1614, Train Accuracy: 0.9456, Val Loss: 0.3714, Val Accuracy: 0.8654\n",
      "Epoch 39/100, Train Loss: 0.1711, Train Accuracy: 0.9400, Val Loss: 0.1932, Val Accuracy: 0.9349\n",
      "Epoch 40/100, Train Loss: 0.1860, Train Accuracy: 0.9321, Val Loss: 0.2147, Val Accuracy: 0.9280\n",
      "Epoch 41/100, Train Loss: 0.1813, Train Accuracy: 0.9365, Val Loss: 0.2572, Val Accuracy: 0.9150\n",
      "Epoch 42/100, Train Loss: 0.1416, Train Accuracy: 0.9507, Val Loss: 0.1637, Val Accuracy: 0.9436\n",
      "Epoch 43/100, Train Loss: 0.1235, Train Accuracy: 0.9566, Val Loss: 0.2409, Val Accuracy: 0.9253\n",
      "Early stopping at epoch 43\n"
     ]
    }
   ],
   "source": [
    "trained_model, train_losses, train_accuracies, val_losses, val_accuracies = train_model(model, criterion, optimizer, train_loader, val_loader, num_epochs=100)"
   ]
  },
  {
   "cell_type": "markdown",
   "id": "d395b44f",
   "metadata": {
    "papermill": {
     "duration": 0.013478,
     "end_time": "2024-10-23T15:52:15.840206",
     "exception": false,
     "start_time": "2024-10-23T15:52:15.826728",
     "status": "completed"
    },
    "tags": []
   },
   "source": [
    "### Visualizing ViT loss and accuracy"
   ]
  },
  {
   "cell_type": "code",
   "execution_count": 8,
   "id": "3a9e1b31",
   "metadata": {
    "execution": {
     "iopub.execute_input": "2024-10-23T15:52:15.869761Z",
     "iopub.status.busy": "2024-10-23T15:52:15.868933Z",
     "iopub.status.idle": "2024-10-23T15:52:16.394776Z",
     "shell.execute_reply": "2024-10-23T15:52:16.393780Z"
    },
    "papermill": {
     "duration": 0.543077,
     "end_time": "2024-10-23T15:52:16.396950",
     "exception": false,
     "start_time": "2024-10-23T15:52:15.853873",
     "status": "completed"
    },
    "tags": []
   },
   "outputs": [
    {
     "data": {
      "image/png": "[encoded data removed]",
      "text/plain": [
       "<Figure size 1200x500 with 2 Axes>"
      ]
     },
     "metadata": {},
     "output_type": "display_data"
    }
   ],
   "source": [
    "plot_training_metrics(train_losses, train_accuracies, range(1, len(train_losses) + 1))"
   ]
  },
  {
   "cell_type": "markdown",
   "id": "b9271a2b",
   "metadata": {
    "papermill": {
     "duration": 0.014215,
     "end_time": "2024-10-23T15:52:16.425897",
     "exception": false,
     "start_time": "2024-10-23T15:52:16.411682",
     "status": "completed"
    },
    "tags": []
   },
   "source": [
    "### Evaluating ViT"
   ]
  },
  {
   "cell_type": "code",
   "execution_count": 9,
   "id": "0cade6e7",
   "metadata": {
    "execution": {
     "iopub.execute_input": "2024-10-23T15:52:16.456942Z",
     "iopub.status.busy": "2024-10-23T15:52:16.456084Z",
     "iopub.status.idle": "2024-10-23T15:53:01.817709Z",
     "shell.execute_reply": "2024-10-23T15:53:01.816655Z"
    },
    "papermill": {
     "duration": 45.394292,
     "end_time": "2024-10-23T15:53:01.834749",
     "exception": false,
     "start_time": "2024-10-23T15:52:16.440457",
     "status": "completed"
    },
    "tags": []
   },
   "outputs": [
    {
     "name": "stdout",
     "output_type": "stream",
     "text": [
      "Accuracy: 0.9540\n"
     ]
    }
   ],
   "source": [
    "# Get predictions and true labels\n",
    "predictions, true_labels = evaluate_model(trained_model, test_loader)\n",
    "\n",
    "# Calculate Accuracy\n",
    "accuracy = accuracy_score(true_labels, predictions)\n",
    "print(f'Accuracy: {accuracy:.4f}')"
   ]
  }
 ],
 "metadata": {
  "kaggle": {
   "accelerator": "gpu",
   "dataSources": [
    {
     "datasetId": 259770,
     "sourceId": 544347,
     "sourceType": "datasetVersion"
    }
   ],
   "dockerImageVersionId": 30786,
   "isGpuEnabled": true,
   "isInternetEnabled": true,
   "language": "python",
   "sourceType": "notebook"
  },
  "kernelspec": {
   "display_name": "Python 3",
   "language": "python",
   "name": "python3"
  },
  "language_info": {
   "codemirror_mode": {
    "name": "ipython",
    "version": 3
   },
   "file_extension": ".py",
   "mimetype": "text/x-python",
   "name": "python",
   "nbconvert_exporter": "python",
   "pygments_lexer": "ipython3",
   "version": "3.10.14"
  },
  "papermill": {
   "default_parameters": {},
   "duration": 17870.391665,
   "end_time": "2024-10-23T15:53:03.573968",
   "environment_variables": {},
   "exception": null,
   "input_path": "__notebook__.ipynb",
   "output_path": "__notebook__.ipynb",
   "parameters": {},
   "start_time": "2024-10-23T10:55:13.182303",
   "version": "2.6.0"
  }
 },
 "nbformat": 4,
 "nbformat_minor": 5
}
